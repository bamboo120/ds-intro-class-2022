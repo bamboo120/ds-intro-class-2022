{
 "cells": [
  {
   "cell_type": "markdown",
   "id": "8776fcce",
   "metadata": {},
   "source": [
    "1. [Read more on `list`](https://docs.python.org/3/tutorial/datastructures.html#more-on-lists) and select 2 list methods not mentioned in class to give examples of using them."
   ]
  },
  {
   "cell_type": "markdown",
   "id": "28c21181",
   "metadata": {},
   "source": [
    "list.count(x) Return the number of times x appears in the list."
   ]
  },
  {
   "cell_type": "code",
   "execution_count": 1,
   "id": "48504a29",
   "metadata": {},
   "outputs": [
    {
     "data": {
      "text/plain": [
       "2"
      ]
     },
     "execution_count": 1,
     "metadata": {},
     "output_type": "execute_result"
    }
   ],
   "source": [
    "l = [1,2,3,4,4,5,6]\n",
    "l.count(4)"
   ]
  },
  {
   "cell_type": "markdown",
   "id": "49040f6e",
   "metadata": {},
   "source": [
    "list.clear() Remove all items from the list. Equivalent to del a[:]."
   ]
  },
  {
   "cell_type": "code",
   "execution_count": 2,
   "id": "da4ff9a0",
   "metadata": {},
   "outputs": [],
   "source": [
    "l.clear()"
   ]
  },
  {
   "cell_type": "code",
   "execution_count": 3,
   "id": "9ed58c24",
   "metadata": {},
   "outputs": [
    {
     "data": {
      "text/plain": [
       "[]"
      ]
     },
     "execution_count": 3,
     "metadata": {},
     "output_type": "execute_result"
    }
   ],
   "source": [
    "l"
   ]
  },
  {
   "cell_type": "markdown",
   "id": "c038576e",
   "metadata": {},
   "source": [
    "2. How can you check if a `key` is already in a dictionary? Give an example."
   ]
  },
  {
   "cell_type": "markdown",
   "id": "1257bf4a",
   "metadata": {},
   "source": [
    "just check the value associated with the key"
   ]
  },
  {
   "cell_type": "code",
   "execution_count": 5,
   "id": "0b326bba",
   "metadata": {},
   "outputs": [
    {
     "data": {
      "text/plain": [
       "3"
      ]
     },
     "execution_count": 5,
     "metadata": {},
     "output_type": "execute_result"
    }
   ],
   "source": [
    "dict_a={}\n",
    "dict_a['a']=3\n",
    "dict_a['b']=4\n",
    "dict_a['a']"
   ]
  },
  {
   "cell_type": "markdown",
   "id": "b60a2d8a",
   "metadata": {},
   "source": [
    "3. [Explore how `Counter`](https://docs.python.org/3/library/collections.html#collections.Counter) works as another type of collection. Give 2 examples to use `Counter`."
   ]
  },
  {
   "cell_type": "code",
   "execution_count": 12,
   "id": "96c87c03",
   "metadata": {},
   "outputs": [
    {
     "data": {
      "text/plain": [
       "0"
      ]
     },
     "execution_count": 12,
     "metadata": {},
     "output_type": "execute_result"
    }
   ],
   "source": [
    "import re\n",
    "from collections import Counter\n",
    "c = Counter(dict_a)\n",
    "c['z']"
   ]
  },
  {
   "cell_type": "code",
   "execution_count": 15,
   "id": "b70e6d7f",
   "metadata": {},
   "outputs": [
    {
     "data": {
      "text/plain": [
       "Counter({'d': 1,\n",
       "         'a': 2,\n",
       "         't': 1,\n",
       "         ' ': 1,\n",
       "         's': 1,\n",
       "         'c': 2,\n",
       "         'i': 1,\n",
       "         'e': 2,\n",
       "         'n': 1})"
      ]
     },
     "execution_count": 15,
     "metadata": {},
     "output_type": "execute_result"
    }
   ],
   "source": [
    "c = Counter('data science')   \n",
    "c"
   ]
  },
  {
   "cell_type": "markdown",
   "id": "389f2d76",
   "metadata": {},
   "source": [
    "4. The Fibonacci Sequence is the series of numbers:\n",
    "0, 1, 1, 2, 3, 5, 8, 13, 21, 34, ...\n",
    "\n",
    "The next number is found by adding up the two numbers before it.\n",
    "Find the last element of the `fibolist`"
   ]
  },
  {
   "cell_type": "code",
   "execution_count": 16,
   "id": "00bfba7e",
   "metadata": {},
   "outputs": [
    {
     "data": {
      "text/plain": [
       "317811"
      ]
     },
     "execution_count": 16,
     "metadata": {},
     "output_type": "execute_result"
    }
   ],
   "source": [
    "fibolist=[0, 1, 1, 2, 3, 5, 8, 13, 21, 34, 55, 89, 144, 233, 377, 610, 987, 1597, 2584, 4181, 6765, 10946, 17711, 28657, 46368, 75025, 121393, 196418, 317811]\n",
    "\n",
    "# code your solution here\n",
    "fibolist[-1]"
   ]
  },
  {
   "cell_type": "markdown",
   "id": "f65c2bc9",
   "metadata": {},
   "source": [
    "5. Calculate the sum of `fibolist`"
   ]
  },
  {
   "cell_type": "code",
   "execution_count": 17,
   "id": "f9603413",
   "metadata": {},
   "outputs": [
    {
     "data": {
      "text/plain": [
       "832039"
      ]
     },
     "execution_count": 17,
     "metadata": {},
     "output_type": "execute_result"
    }
   ],
   "source": [
    "import numpy as np\n",
    "np.sum(fibolist)"
   ]
  },
  {
   "cell_type": "markdown",
   "id": "d9dd5cc5",
   "metadata": {},
   "source": [
    "6. Calculate and append the next fibonacci number to `fibolist`."
   ]
  },
  {
   "cell_type": "code",
   "execution_count": 18,
   "id": "e3d7256b",
   "metadata": {},
   "outputs": [],
   "source": [
    "fibo_next = fibolist[-1]+fibolist[-2]\n",
    "fibolist.append(fibo_next)"
   ]
  },
  {
   "cell_type": "markdown",
   "id": "b566794d",
   "metadata": {},
   "source": [
    "7. Create a reversed copy of fibolist without permanently reversing fibolist liteslf."
   ]
  },
  {
   "cell_type": "code",
   "execution_count": 22,
   "id": "cf2b1ea4",
   "metadata": {},
   "outputs": [],
   "source": [
    "fibolist_reverse = fibolist[::-1]"
   ]
  },
  {
   "cell_type": "markdown",
   "id": "41fdf247",
   "metadata": {},
   "source": [
    "8. Check if `29473` is a fibonacci number, and assign the anser to variable `fibo_29473`"
   ]
  },
  {
   "cell_type": "code",
   "execution_count": 24,
   "id": "ec48b1ef",
   "metadata": {},
   "outputs": [
    {
     "data": {
      "text/plain": [
       "False"
      ]
     },
     "execution_count": 24,
     "metadata": {},
     "output_type": "execute_result"
    }
   ],
   "source": [
    "ibo_29473 = 29473 in fibolist\n",
    "ibo_29473"
   ]
  },
  {
   "cell_type": "markdown",
   "id": "5dc1fd5f",
   "metadata": {},
   "source": [
    "9. Create two sets. Calculate the union, intersection, difference and symmetric difference for the two sets."
   ]
  },
  {
   "cell_type": "code",
   "execution_count": 28,
   "id": "3d6db05f",
   "metadata": {},
   "outputs": [],
   "source": [
    "set1 = {1,2,3,4,5,6,7,8}\n",
    "set2 = {7,8,9,10,11,12,13,14}"
   ]
  },
  {
   "cell_type": "code",
   "execution_count": 31,
   "id": "d5b243c9",
   "metadata": {},
   "outputs": [],
   "source": [
    "union_12 = set1.union(set2)"
   ]
  },
  {
   "cell_type": "code",
   "execution_count": 32,
   "id": "03d29e8a",
   "metadata": {},
   "outputs": [
    {
     "data": {
      "text/plain": [
       "{1, 2, 3, 4, 5, 6, 7, 8, 9, 10, 11, 12, 13, 14}"
      ]
     },
     "execution_count": 32,
     "metadata": {},
     "output_type": "execute_result"
    }
   ],
   "source": [
    "union_12"
   ]
  },
  {
   "cell_type": "code",
   "execution_count": 33,
   "id": "fd49dda9",
   "metadata": {},
   "outputs": [],
   "source": [
    "intersection_12 = set1.intersection(set2)"
   ]
  },
  {
   "cell_type": "code",
   "execution_count": 34,
   "id": "067c6387",
   "metadata": {},
   "outputs": [
    {
     "data": {
      "text/plain": [
       "{7, 8}"
      ]
     },
     "execution_count": 34,
     "metadata": {},
     "output_type": "execute_result"
    }
   ],
   "source": [
    "intersection_12"
   ]
  },
  {
   "cell_type": "code",
   "execution_count": 35,
   "id": "66004c01",
   "metadata": {},
   "outputs": [],
   "source": [
    "difference_12 = set1.difference(set2)"
   ]
  },
  {
   "cell_type": "code",
   "execution_count": 36,
   "id": "efa74387",
   "metadata": {},
   "outputs": [
    {
     "data": {
      "text/plain": [
       "{1, 2, 3, 4, 5, 6}"
      ]
     },
     "execution_count": 36,
     "metadata": {},
     "output_type": "execute_result"
    }
   ],
   "source": [
    "difference_12"
   ]
  },
  {
   "cell_type": "code",
   "execution_count": 37,
   "id": "a1a5c1a2",
   "metadata": {},
   "outputs": [],
   "source": [
    "symmetric_difference12 = set1.symmetric_difference(set2)"
   ]
  },
  {
   "cell_type": "code",
   "execution_count": 38,
   "id": "0697ccce",
   "metadata": {},
   "outputs": [
    {
     "data": {
      "text/plain": [
       "{1, 2, 3, 4, 5, 6, 9, 10, 11, 12, 13, 14}"
      ]
     },
     "execution_count": 38,
     "metadata": {},
     "output_type": "execute_result"
    }
   ],
   "source": [
    "symmetric_difference12"
   ]
  },
  {
   "cell_type": "markdown",
   "id": "558723da",
   "metadata": {},
   "source": [
    "10. Creat a dictionary using at least two different methods."
   ]
  },
  {
   "cell_type": "code",
   "execution_count": 39,
   "id": "7108ff6e",
   "metadata": {},
   "outputs": [
    {
     "data": {
      "text/plain": [
       "{'a': 1, 'b': 2}"
      ]
     },
     "execution_count": 39,
     "metadata": {},
     "output_type": "execute_result"
    }
   ],
   "source": [
    "dict1 = {}\n",
    "dict1['a']=1\n",
    "dict1['b']=2\n",
    "dict1"
   ]
  },
  {
   "cell_type": "code",
   "execution_count": 40,
   "id": "1247f1a9",
   "metadata": {},
   "outputs": [
    {
     "data": {
      "text/plain": [
       "{'a': 1, 'b': 2}"
      ]
     },
     "execution_count": 40,
     "metadata": {},
     "output_type": "execute_result"
    }
   ],
   "source": [
    "dict2 = dict(a=1,b=2)\n",
    "dict2"
   ]
  },
  {
   "cell_type": "markdown",
   "id": "88adc4ea",
   "metadata": {},
   "source": [
    "11. Check if `2` and `9999` are fibonacci numbers. Create a dictionary `fibo_dict` with the numbers as keys, and boolean value=`True` if the number is fibonacci number, and `False` otherwise."
   ]
  },
  {
   "cell_type": "code",
   "execution_count": 42,
   "id": "b2d3be56",
   "metadata": {},
   "outputs": [],
   "source": [
    "fibonacci = [0,1]\n",
    "while fibonacci[-1]<9999:\n",
    "    fibonacci.append(fibonacci[-1]+fibonacci[-2])\n",
    "fibo_dict ={}\n",
    "fibo_dict[2]=2 in fibonacci\n",
    "fibo_dict[9999]=9999 in fibonacci\n"
   ]
  },
  {
   "cell_type": "code",
   "execution_count": 44,
   "id": "a071a3e3",
   "metadata": {},
   "outputs": [
    {
     "data": {
      "text/plain": [
       "{2: True, 9999: False}"
      ]
     },
     "execution_count": 44,
     "metadata": {},
     "output_type": "execute_result"
    }
   ],
   "source": [
    "fibo_dict"
   ]
  },
  {
   "cell_type": "code",
   "execution_count": null,
   "id": "6811fdcf",
   "metadata": {},
   "outputs": [],
   "source": []
  }
 ],
 "metadata": {
  "kernelspec": {
   "display_name": "Python 3 (ipykernel)",
   "language": "python",
   "name": "python3"
  },
  "language_info": {
   "codemirror_mode": {
    "name": "ipython",
    "version": 3
   },
   "file_extension": ".py",
   "mimetype": "text/x-python",
   "name": "python",
   "nbconvert_exporter": "python",
   "pygments_lexer": "ipython3",
   "version": "3.9.13"
  }
 },
 "nbformat": 4,
 "nbformat_minor": 5
}
